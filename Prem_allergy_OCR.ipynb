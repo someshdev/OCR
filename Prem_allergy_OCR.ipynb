{
 "cells": [
  {
   "cell_type": "code",
   "execution_count": null,
   "id": "f8610d81",
   "metadata": {},
   "outputs": [],
   "source": [
    "from PIL import Image\n",
    "import pytesseract\n",
    "import numpy as np"
   ]
  },
  {
   "cell_type": "code",
   "execution_count": null,
   "id": "e9eb9952",
   "metadata": {},
   "outputs": [],
   "source": [
    "import pytesseract\n"
   ]
  },
  {
   "cell_type": "code",
   "execution_count": null,
   "id": "11fa5949",
   "metadata": {},
   "outputs": [],
   "source": [
    "\n",
    "# extractedInformation = pytesseract.image_to_string(Image.open('test-european.jpg'), lang='fra')\n",
    "# print(extractedInformation)\n",
    "\n",
    "image_path_in_colab='/Users/someshdevagekar/Downloads/IMG_6954.png'\n",
    "extractedInformation = pytesseract.image_to_string(Image.open(image_path_in_colab), lang='deu')\n",
    "print(extractedInformation)"
   ]
  },
  {
   "cell_type": "code",
   "execution_count": null,
   "id": "0f802762",
   "metadata": {},
   "outputs": [],
   "source": []
  },
  {
   "cell_type": "code",
   "execution_count": 4,
   "id": "3f53b4e3",
   "metadata": {},
   "outputs": [
    {
     "name": "stdout",
     "output_type": "stream",
     "text": [
      "ee u Kart AT te a ee\n",
      "Dr ee ln le ana ehe Ss M. u ei Er e: N a ur\n",
      "ER REITER AS ETET ENTE EEE FREE PERF E GET ETESTSSHEITRTEHZRSATFEFEE RER DEN SRREREEEETTEREES Sn a er ge ee\n",
      "a an a en a, GE a. en —— ÄBeNS open) an u. a. _ a a a\n",
      "PM PpIErT BI ZEDNSIF PAR ABENGG FSK AÄASENSVorD De ER a a u “ E; un, ._ _ u\n",
      "| _ a n _ a a En eo = ee ser ee bc Ina ch San\n",
      "EEE Es E = z Ex LER EREERENEER, % 3 x ER EN 2 Se er RER: a Bo ee ee een\n",
      "Be BB. Pr Pa nr a anc u ._ .,. BE: = a Sa id, a 2 a ne A 2 nn\n",
      "ie ee IH: es Aink: EI MON NER SEN Or Sparer Fa an aaa “ao... a DEN io ee\n",
      "ee EST RHER ERBE F Een EEE ELSERE N FB ER  ETERRR TE: REMENST.TAHE VSBFSFAIRSG IT ;E RSS, Be a. 2 5%\n",
      "a Be ge ER St Pe ee IE 2 Kae & ; Paz as, ER, zes: FENG BE ENTE EM ns ee, u u N PER EURO a . [0 . — _\n",
      "N ee = an PR a Per Te 3 TEE ETTER EN PETE HEN # AR}; Te N F x 18 SERE ER ET HTASERNEN = EN BER RN ER en ee\n",
      "Be BL, _ Be Be ne a E nd = Ee en Bi a. a a\n",
      "—_ RER EOSIHERONE I ESOE FA. HETHES TEN ER ne Din Br Die ao ame Er nen a ee\n",
      "ee Fernseher Fa ae ee I EE Be b N EImL EREREER “ te, Hk ARTEN aloe Bd nr nn\n",
      "EEE ET ENTE ERESETTH SERIE OREIE = SERREUHEEEN RE ERTAHETE RIEN BERTRE: DEREN ENT ENTER NSOREHERR EN REN ee RE ER TE RR EEE ee\n",
      "ea Rn Ba) En DE, 1 EHE RLEE REN SEE ee ee ee en\n",
      "ee a E ee, : ni RR . a en nn 8\n",
      "Bee ee ae ERROR Er EEE De ER ee ee 5 a n 5\n",
      "SE Sn} et BE ” ee A RR BE REREDE HORB} a BER Ei, E RERRR 5 a RER BE ne Ki ERSEER Ba Bi nk Re, a ae ee\n",
      "BE aan une ee SE ENTE A BEREN RN 5 25 RER S I RER Be ee en ee\n",
      "br la... Bu a, SIyCEN 4 REDE 73 DERERNG, SULREIG BLIQ, OLos ucderg | Coca a en\n",
      "a N EREREE ehe BEER HITREERD KR EH ERST EEE EEE SER heuer ER Ne else Bas\n",
      "an 3, ne Et: Kurt, PEN u HER N ji 2 EL of en ln, 0: ee ou. .\n",
      "NEE EN SON DEE Pen: TERN a Olga en BU a TELLER NT NE WERTE TAT U Sn Kar\n",
      "nen SEERRIIE Br Ann SERT: RITA EREITISEHTIDR, 1: RUE NUEL EIN E LINE Ku Hit k ALENLE, SORYUML Wall\n",
      "EEE AR I. BE ELCH L, EEE NENNT EEE NEN SERIEN le N TOTEN RR VRTLICH Orden TER) BESTER SE DEREN RT en an\n",
      "ee ee en ge Tan RE En, en Seen a 0,\n",
      "Se a ee a Bi 2 RE I AR dh Pa Ar ER Dan Ran f A 00 Ka Arne Ind OLE i\n",
      "Be BIRATse er Deore Bea is REED Ei ERAHNEN IND STRU TR TA R 8 EEE | I EULWORLTLGELING S MERAN\n",
      "er N Henn, SI HARTE LEDER 20 EUER RENNER TER REITEN nd A ee ee ee\n",
      "ELBA ER, oh BOnmegerte BER ET RB £ RE IE RROTAREREREN. BER BE neh deratfisn SEI) Ol Be\n",
      "ee ed BEER Mens need. Fi Br BEE a a a RL UNE es ._\n",
      "au ee an m en\n",
      "er ee In BR ER I NOREORE fi a PERS Ei ‘ jR Be ii Hi ve a Ds ee ii a an a en a\n",
      "re N TIEREN N FETSTEE A RATE ER FR RL ROSS Boa en\n",
      "en A Susan : $ en EEE UT ESTER EEE & FE ARESNTAUEN Sa ne a en\n",
      "Sn Se Ess canITa TRIER SO rs R LTE EI IA Re Ta LE BEN EREE a en\n",
      "s ” ven es! BT: al 3 Une SE ee EIERN EM a reise er en\n",
      "IR ER N ET EN BE Re ERSERT FORETIOREN BEISHN IS, SEaree, REES RERNERERE. UNE SRIOHE N o EN ERNTERETRSRENSENT SENSE ea 2\n",
      "ed ee ae ann aa,\n",
      "en N RE a N a a ne ES HZ Eu\n",
      "un RR RER Les a ir: ia a on den. BR Be A DANS Mn,\n",
      "en a ee E a a ee A Pi En Es ae en Ben N a AA 3\n",
      "m Sa ee, en an ME Ba 3 2} Gi EIER I EHI TE H ME  ı\n",
      "SE ATI IH ae a ve a TA STE FE RE, ee Be ec jensgic Se ee ev\n",
      "Are a 2 2 2813 en ee ee > © ee ee! ee 5\n",
      "ee ae ee De ee I 2 ER LES NEST ERSERAN IR BERESTE Urn. a ee ee\n",
      "= ee IE NE EEE un. = :\n",
      "Be NE a EEE EEE ER SEELE\n",
      "\n"
     ]
    }
   ],
   "source": [
    "import cv2\n",
    "import numpy as np\n",
    "import pytesseract\n",
    "\n",
    "# Load image, grayscale, apply sharpening filter, Otsu's threshold \n",
    "image = cv2.imread('/Users/someshdevagekar/Downloads/IMG_6954-2.png')\n",
    "gray = cv2.cvtColor(image, cv2.COLOR_BGR2GRAY)\n",
    "sharpen_kernel = np.array([[-1,-1,-1], [-1,9,-1], [-1,-1,-1]])\n",
    "sharpen = cv2.filter2D(gray, -1, sharpen_kernel)\n",
    "thresh = cv2.threshold(sharpen, 0, 255, cv2.THRESH_BINARY_INV + cv2.THRESH_OTSU)[1]\n",
    "\n",
    "# OCR\n",
    "data = pytesseract.image_to_string(thresh, lang='deu', config='--psm 6')\n",
    "print(data)\n",
    "\n",
    "# cv2.imshow('sharpen', sharpen)\n",
    "# cv2.imshow('thresh', thresh)\n",
    "# cv2.waitKey(1000)"
   ]
  },
  {
   "cell_type": "code",
   "execution_count": null,
   "id": "528f927e",
   "metadata": {},
   "outputs": [],
   "source": []
  }
 ],
 "metadata": {
  "kernelspec": {
   "display_name": "Python 3 (ipykernel)",
   "language": "python",
   "name": "python3"
  },
  "language_info": {
   "codemirror_mode": {
    "name": "ipython",
    "version": 3
   },
   "file_extension": ".py",
   "mimetype": "text/x-python",
   "name": "python",
   "nbconvert_exporter": "python",
   "pygments_lexer": "ipython3",
   "version": "3.9.7"
  }
 },
 "nbformat": 4,
 "nbformat_minor": 5
}
